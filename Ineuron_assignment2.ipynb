{
 "cells": [
  {
   "cell_type": "code",
   "execution_count": 1,
   "metadata": {},
   "outputs": [
    {
     "data": {
      "text/plain": [
       "15"
      ]
     },
     "execution_count": 1,
     "metadata": {},
     "output_type": "execute_result"
    }
   ],
   "source": [
    "#Task1(1.1)\n",
    "\n",
    "def myreduce(func,b):\n",
    "    temp=b[0]\n",
    "    for i in b[1:]:\n",
    "        temp=func(temp,i)\n",
    "    return temp\n",
    "\n",
    "def add(a,b):\n",
    "    return a+b\n",
    "b=[1,2,3,4,5]\n",
    "myreduce(add,b)"
   ]
  },
  {
   "cell_type": "code",
   "execution_count": 2,
   "metadata": {},
   "outputs": [
    {
     "data": {
      "text/plain": [
       "[2, 4, 10, 12]"
      ]
     },
     "execution_count": 2,
     "metadata": {},
     "output_type": "execute_result"
    }
   ],
   "source": [
    "#Task1(1.2)\n",
    "\n",
    "def myfilter(func,c):\n",
    "    n=[]\n",
    "    for i in c:\n",
    "        if func(i)==True:\n",
    "                n.append(i)\n",
    "    return n\n",
    "\n",
    "def even_check(n):\n",
    "    if n%2==0:\n",
    "        return True\n",
    "l=[1,2,3,4,5,10,12]\n",
    "myfilter(even_check,l)\n"
   ]
  },
  {
   "cell_type": "code",
   "execution_count": 3,
   "metadata": {},
   "outputs": [
    {
     "data": {
      "text/plain": [
       "['A', 'C', 'A', 'D', 'G', 'I', 'L', ' D']"
      ]
     },
     "execution_count": 3,
     "metadata": {},
     "output_type": "execute_result"
    }
   ],
   "source": [
    "#Task1(2)(a)\n",
    "\n",
    "l1=['A', 'C', 'A', 'D', 'G', 'I', 'L',' D']\n",
    "[i for i in l1]"
   ]
  },
  {
   "cell_type": "code",
   "execution_count": 4,
   "metadata": {},
   "outputs": [
    {
     "data": {
      "text/plain": [
       "['x', 'xx', 'xxx', 'xxxx', 'y', 'yy', 'yyy', 'yyyy', 'z', 'zz', 'zzz', 'zzzz']"
      ]
     },
     "execution_count": 4,
     "metadata": {},
     "output_type": "execute_result"
    }
   ],
   "source": [
    "#Task1(2)(b)\n",
    "\n",
    "l2='xyz'\n",
    "[i*j for i in l2 for j in range(1,5)]"
   ]
  },
  {
   "cell_type": "code",
   "execution_count": 5,
   "metadata": {},
   "outputs": [
    {
     "data": {
      "text/plain": [
       "['x', 'y', 'z', 'xx', 'yy', 'zz', 'xxx', 'yyy', 'zzz', 'xxxx', 'yyyy', 'zzzz']"
      ]
     },
     "execution_count": 5,
     "metadata": {},
     "output_type": "execute_result"
    }
   ],
   "source": [
    "#Task1(2)(c)\n",
    "\n",
    "l2='xyz'\n",
    "[i*j for i in range(1,5) for j in l2]"
   ]
  },
  {
   "cell_type": "code",
   "execution_count": 6,
   "metadata": {},
   "outputs": [
    {
     "data": {
      "text/plain": [
       "[[2], [3], [4], [3], [4], [5], [4], [5], [6]]"
      ]
     },
     "execution_count": 6,
     "metadata": {},
     "output_type": "execute_result"
    }
   ],
   "source": [
    "#Task1(2)(d)\n",
    "\n",
    "[[i+j] for j in range(0,3) for i in range(2,5)]"
   ]
  },
  {
   "cell_type": "code",
   "execution_count": 7,
   "metadata": {},
   "outputs": [
    {
     "data": {
      "text/plain": [
       "[[2, 3, 4, 5], [3, 4, 5, 6], [4, 5, 6, 7], [5, 6, 7, 8]]"
      ]
     },
     "execution_count": 7,
     "metadata": {},
     "output_type": "execute_result"
    }
   ],
   "source": [
    "#Task1(2)(e)\n",
    "\n",
    "s1=[i+j for j in range(0,4) for i in range(2,6)] \n",
    "[s1[i:i+4] for i in range(0,len(s1),4)]"
   ]
  },
  {
   "cell_type": "code",
   "execution_count": 8,
   "metadata": {},
   "outputs": [
    {
     "data": {
      "text/plain": [
       "[(1, 1), (2, 1), (3, 1), (1, 2), (2, 2), (3, 2), (1, 3), (2, 3), (3, 3)]"
      ]
     },
     "execution_count": 8,
     "metadata": {},
     "output_type": "execute_result"
    }
   ],
   "source": [
    "#Task1(2)(f)\n",
    "\n",
    "[(j,i) for i in range(1,4) for j in range(1,4)]"
   ]
  },
  {
   "cell_type": "code",
   "execution_count": 9,
   "metadata": {},
   "outputs": [
    {
     "data": {
      "text/plain": [
       "'eyqtrqiireuieq0priopqeoitkoqjtr'"
      ]
     },
     "execution_count": 9,
     "metadata": {},
     "output_type": "execute_result"
    }
   ],
   "source": [
    "#Task1(3)\n",
    "\n",
    "def longestWord(words):\n",
    "    q1=[]\n",
    "    q2=[]\n",
    "    for i in words:\n",
    "        q1.append((len(i),i))\n",
    "        q1.sort()\n",
    "    q2.append(q1[-1])\n",
    "    return q2[-1][1]\n",
    "longestWord([\"mrudul\",\"poyekar\",\"nitin\",\"sert\",\"eyqtrqiireuieq0priopqeoitkoqjtr\",\"describe\",\"artificial\"])"
   ]
  },
  {
   "cell_type": "code",
   "execution_count": 10,
   "metadata": {},
   "outputs": [
    {
     "name": "stdout",
     "output_type": "stream",
     "text": [
      "6.0\n"
     ]
    }
   ],
   "source": [
    "#Task2(1.1)\n",
    "\n",
    "class triangle:\n",
    "    def __init__(self,a,b,c):\n",
    "        self.a = float(a)\n",
    "        self.b = float(b)\n",
    "        self.c = float(c)\n",
    "    def areaoftriangle(self):\n",
    "        s=(self.a + self.b + self.c)/2\n",
    "        return((s*(s-self.a)*(s-self.b)*(s-self.c))**0.5)\n",
    "t = triangle(3,4,5)\n",
    "print(t.areaoftriangle())"
   ]
  },
  {
   "cell_type": "code",
   "execution_count": 11,
   "metadata": {
    "scrolled": true
   },
   "outputs": [
    {
     "data": {
      "text/plain": [
       "['eyqtrqiireuieq0priopqeoitkoqjtr', 'artificial']"
      ]
     },
     "execution_count": 11,
     "metadata": {},
     "output_type": "execute_result"
    }
   ],
   "source": [
    "#Task2(1.2)\n",
    "\n",
    "def filter_long_words(mylist,n):\n",
    "    m=[]\n",
    "    for i in mylist:\n",
    "        if len(i) > n:\n",
    "            m.append(i)\n",
    "    return m\n",
    "            \n",
    "filter_long_words([\"mrudul\",\"poyekar\",\"nitin\",\"sert\",\"eyqtrqiireuieq0priopqeoitkoqjtr\",\"describe\",\"artificial\"],8)"
   ]
  },
  {
   "cell_type": "code",
   "execution_count": 12,
   "metadata": {},
   "outputs": [
    {
     "data": {
      "text/plain": [
       "[6, 7, 5, 4, 31, 8, 10]"
      ]
     },
     "execution_count": 12,
     "metadata": {},
     "output_type": "execute_result"
    }
   ],
   "source": [
    "#Task2(2.1)\n",
    "\n",
    "def numberofletters(l):\n",
    "    m1=[]\n",
    "    for i in l:\n",
    "        m1.append(len(i))\n",
    "    return m1\n",
    "numberofletters([\"mrudul\",\"poyekar\",\"nitin\",\"sert\",\"eyqtrqiireuieq0priopqeoitkoqjtr\",\"describe\",\"artificial\"])"
   ]
  },
  {
   "cell_type": "code",
   "execution_count": 193,
   "metadata": {},
   "outputs": [
    {
     "data": {
      "text/plain": [
       "True"
      ]
     },
     "execution_count": 193,
     "metadata": {},
     "output_type": "execute_result"
    }
   ],
   "source": [
    "#Task2(2.2)\n",
    "\n",
    "def vowel(s):\n",
    "    if s=='a' or s=='e' or s=='i' or s=='o' or s=='u':\n",
    "        return True\n",
    "    else:\n",
    "        return False\n",
    "vowel('a')"
   ]
  },
  {
   "cell_type": "code",
   "execution_count": null,
   "metadata": {},
   "outputs": [],
   "source": []
  }
 ],
 "metadata": {
  "kernelspec": {
   "display_name": "Python 3",
   "language": "python",
   "name": "python3"
  },
  "language_info": {
   "codemirror_mode": {
    "name": "ipython",
    "version": 3
   },
   "file_extension": ".py",
   "mimetype": "text/x-python",
   "name": "python",
   "nbconvert_exporter": "python",
   "pygments_lexer": "ipython3",
   "version": "3.7.3"
  }
 },
 "nbformat": 4,
 "nbformat_minor": 2
}
